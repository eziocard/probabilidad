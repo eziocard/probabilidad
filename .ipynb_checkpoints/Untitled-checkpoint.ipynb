{
 "cells": [
  {
   "cell_type": "code",
   "execution_count": 47,
   "id": "86b676a1-7f7d-4624-a82e-474dfa5667b3",
   "metadata": {},
   "outputs": [],
   "source": [
    "\n",
    "import pandas as pd\n",
    "\n",
    "\n",
    "class Database:\n",
    "    def __init__(self):\n",
    "        self.df = pd.read_excel('base_de_datos.xlsx')\n",
    "\n",
    "\n",
    "    def get_database(self):\n",
    "       return print(self.df.tail().to_string(index=False))\n",
    "\n",
    "        \n",
    "    def get_values_columns(self,name):\n",
    "        valores = self.df[name].value_counts()\n",
    "        return valores\n",
    "    def get_columns_values(self):\n",
    "        return self.df.columns.values\n",
    "\n"
   ]
  },
  {
   "cell_type": "code",
   "execution_count": 48,
   "id": "7b211935-7821-4417-b6ae-6531409f4f98",
   "metadata": {},
   "outputs": [
    {
     "name": "stdout",
     "output_type": "stream",
     "text": [
      "     ID Estatus del cliente  Presupuesto   Fecha de Creación Última modificación el Categoría Artículo\n",
      "3841944       Leads ganados         4500 01.09.2023 10:43:06    06.10.2023 11:42:53          Hang Tags\n",
      "3829278      Leads perdidos            0 01.09.2023 10:16:22    02.09.2023 12:06:41          Hang Tags\n",
      "3806840      Leads perdidos            0 01.09.2023 07:47:14    01.09.2023 11:37:37                NaN\n",
      "3795992       Leads ganados        69200 01.09.2023 04:04:35    06.10.2023 12:47:49                NaN\n",
      "3794350      Leads perdidos            0 01.09.2023 02:39:42    05.09.2023 16:12:04                NaN\n"
     ]
    }
   ],
   "source": [
    "db = Database()\n",
    "db.get_database()"
   ]
  },
  {
   "cell_type": "code",
   "execution_count": 54,
   "id": "596bd62f-afab-45b3-aea5-9d05963fc3a9",
   "metadata": {},
   "outputs": [
    {
     "name": "stdout",
     "output_type": "stream",
     "text": [
      "['ID' 'Estatus del cliente' 'Presupuesto' 'Fecha de Creación'\n",
      " 'Última modificación el' 'Categoría Artículo']\n"
     ]
    }
   ],
   "source": [
    "names_columns = db.get_columns_values()\n",
    "print(names_columns)"
   ]
  },
  {
   "cell_type": "code",
   "execution_count": 59,
   "id": "650775b5-0ec6-49a4-9f44-cbd3d1dce619",
   "metadata": {},
   "outputs": [
    {
     "name": "stdout",
     "output_type": "stream",
     "text": [
      "Estatus del cliente\n",
      "Leads perdidos (No responde)                          3556\n",
      "Leads perdidos                                        1847\n",
      "Leads ganados                                          845\n",
      "Leads perdidos (No hay necesidad para el producto)     108\n",
      "En Conversación                                         66\n",
      "Leads perdidos (Presupuesto insuficiente)               52\n",
      "Leads perdidos (Comprado del competidor)                49\n",
      "Leads perdidos (No satisfecho con las condiciones)      44\n",
      "En Producción                                           25\n",
      "Facturación                                             21\n",
      "Pendiente de Pago                                       17\n",
      "Incoming leads                                           5\n",
      "Listo para Entrega                                       5\n",
      "Despachado                                               3\n",
      "Name: count, dtype: int64\n"
     ]
    }
   ],
   "source": [
    "print(db.get_values_columns(names_columns[1]))"
   ]
  },
  {
   "cell_type": "code",
   "execution_count": 60,
   "id": "92866bca-4e7b-4ac7-85f5-00d1270d79ef",
   "metadata": {},
   "outputs": [
    {
     "name": "stdout",
     "output_type": "stream",
     "text": [
      "Fecha de Creación\n",
      "02.03.2024 15:01:13    2\n",
      "22.08.2024 12:24:46    2\n",
      "20.04.2024 18:25:54    1\n",
      "20.04.2024 19:20:31    1\n",
      "20.04.2024 20:22:11    1\n",
      "                      ..\n",
      "01.08.2024 14:15:35    1\n",
      "01.08.2024 14:31:35    1\n",
      "01.08.2024 14:53:27    1\n",
      "01.08.2024 14:54:58    1\n",
      "01.08.2024 11:20:35    1\n",
      "Name: count, Length: 6641, dtype: int64\n"
     ]
    }
   ],
   "source": [
    "print(db.get_values_columns(names_columns[3]))"
   ]
  },
  {
   "cell_type": "code",
   "execution_count": 61,
   "id": "92bf3ee8-1996-4ae3-a1b7-8f8b0ea64471",
   "metadata": {},
   "outputs": [
    {
     "name": "stdout",
     "output_type": "stream",
     "text": [
      "Categoría Artículo\n",
      "Etiquetas Ecocuero                                 1362\n",
      "Letreros (todos)                                    548\n",
      "Exhibidores de Madera                               128\n",
      "Stickers                                            107\n",
      "Hang Tags                                            54\n",
      "Otros                                                29\n",
      "Etiquetas Ecocuero, Letreros (todos)                  4\n",
      "Imanes                                                3\n",
      "Exhibidores de Madera, Letreros (todos)               1\n",
      "Hang Tags, Etiquetas Ecocuero, Letreros (todos)       1\n",
      "Stickers, Etiquetas Ecocuero                          1\n",
      "Botellas                                              1\n",
      "Hang Tags, Etiquetas Ecocuero                         1\n",
      "Hang Tags, Stickers                                   1\n",
      "Name: count, dtype: int64\n"
     ]
    }
   ],
   "source": [
    "print(db.get_values_columns(names_columns[5]))"
   ]
  },
  {
   "cell_type": "code",
   "execution_count": null,
   "id": "eebe23a2-0462-406a-8a45-a9ecfb38bffe",
   "metadata": {},
   "outputs": [],
   "source": []
  }
 ],
 "metadata": {
  "kernelspec": {
   "display_name": "Python 3 (ipykernel)",
   "language": "python",
   "name": "python3"
  },
  "language_info": {
   "codemirror_mode": {
    "name": "ipython",
    "version": 3
   },
   "file_extension": ".py",
   "mimetype": "text/x-python",
   "name": "python",
   "nbconvert_exporter": "python",
   "pygments_lexer": "ipython3",
   "version": "3.12.7"
  }
 },
 "nbformat": 4,
 "nbformat_minor": 5
}
