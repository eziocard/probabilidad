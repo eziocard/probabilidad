{
 "cells": [
  {
   "cell_type": "code",
   "execution_count": 53,
   "id": "86b676a1-7f7d-4624-a82e-474dfa5667b3",
   "metadata": {},
   "outputs": [],
   "source": [
    "\n",
    "import pandas as pd\n",
    "\n",
    "\n",
    "class Database:\n",
    "    def __init__(self):\n",
    "        self.df = pd.read_excel('base_de_datos.xlsx')\n",
    "   \n",
    "\n",
    "\n",
    "    def get_database(self):\n",
    "       return print(self.df.tail().to_string(index=False))\n",
    "\n",
    "        \n",
    "    def get_values_columns(self,name):\n",
    "        valores = self.df[name].value_counts()\n",
    "        return valores\n",
    "    def get_columns_values(self):\n",
    "        return self.df.columns.values\n",
    "\n",
    "    def order_date(self):\n",
    "        column =  self.df[\"Última modificación el\"]\n",
    "        self.df[\"Última modificación el\"] = pd.to_datetime(column, format=\"%d.%m.%Y %H:%M:%S\")\n",
    "        column.dt.year\n",
    "        return self.df.tail().to_string(index=False)"
   ]
  },
  {
   "cell_type": "code",
   "execution_count": 54,
   "id": "7b211935-7821-4417-b6ae-6531409f4f98",
   "metadata": {},
   "outputs": [
    {
     "name": "stdout",
     "output_type": "stream",
     "text": [
      "     ID Estatus del cliente  Presupuesto   Fecha de Creación Última modificación el Categoría Artículo\n",
      "3841944       Leads ganados         4500 01.09.2023 10:43:06    06.10.2023 11:42:53          Hang Tags\n",
      "3829278      Leads perdidos            0 01.09.2023 10:16:22    02.09.2023 12:06:41          Hang Tags\n",
      "3806840      Leads perdidos            0 01.09.2023 07:47:14    01.09.2023 11:37:37                NaN\n",
      "3795992       Leads ganados        69200 01.09.2023 04:04:35    06.10.2023 12:47:49                NaN\n",
      "3794350      Leads perdidos            0 01.09.2023 02:39:42    05.09.2023 16:12:04                NaN\n"
     ]
    }
   ],
   "source": [
    "db = Database()\n",
    "db.get_database()"
   ]
  },
  {
   "cell_type": "code",
   "execution_count": 55,
   "id": "596bd62f-afab-45b3-aea5-9d05963fc3a9",
   "metadata": {},
   "outputs": [
    {
     "name": "stdout",
     "output_type": "stream",
     "text": [
      "['ID' 'Estatus del cliente' 'Presupuesto' 'Fecha de Creación'\n",
      " 'Última modificación el' 'Categoría Artículo']\n"
     ]
    }
   ],
   "source": [
    "names_columns = db.get_columns_values()\n",
    "print(names_columns)"
   ]
  },
  {
   "cell_type": "code",
   "execution_count": 56,
   "id": "650775b5-0ec6-49a4-9f44-cbd3d1dce619",
   "metadata": {},
   "outputs": [
    {
     "name": "stdout",
     "output_type": "stream",
     "text": [
      "Estatus del cliente\n",
      "Leads perdidos (No responde)                          3556\n",
      "Leads perdidos                                        1847\n",
      "Leads ganados                                          845\n",
      "Leads perdidos (No hay necesidad para el producto)     108\n",
      "En Conversación                                         66\n",
      "Leads perdidos (Presupuesto insuficiente)               52\n",
      "Leads perdidos (Comprado del competidor)                49\n",
      "Leads perdidos (No satisfecho con las condiciones)      44\n",
      "En Producción                                           25\n",
      "Facturación                                             21\n",
      "Pendiente de Pago                                       17\n",
      "Incoming leads                                           5\n",
      "Listo para Entrega                                       5\n",
      "Despachado                                               3\n",
      "Name: count, dtype: int64\n"
     ]
    }
   ],
   "source": [
    "print(db.get_values_columns(names_columns[1]))"
   ]
  },
  {
   "cell_type": "code",
   "execution_count": 57,
   "id": "92866bca-4e7b-4ac7-85f5-00d1270d79ef",
   "metadata": {},
   "outputs": [
    {
     "name": "stdout",
     "output_type": "stream",
     "text": [
      "Fecha de Creación\n",
      "02.03.2024 15:01:13    2\n",
      "22.08.2024 12:24:46    2\n",
      "20.04.2024 18:25:54    1\n",
      "20.04.2024 19:20:31    1\n",
      "20.04.2024 20:22:11    1\n",
      "                      ..\n",
      "01.08.2024 14:15:35    1\n",
      "01.08.2024 14:31:35    1\n",
      "01.08.2024 14:53:27    1\n",
      "01.08.2024 14:54:58    1\n",
      "01.08.2024 11:20:35    1\n",
      "Name: count, Length: 6641, dtype: int64\n"
     ]
    }
   ],
   "source": [
    "print(db.get_values_columns(names_columns[3]))"
   ]
  },
  {
   "cell_type": "code",
   "execution_count": 58,
   "id": "92bf3ee8-1996-4ae3-a1b7-8f8b0ea64471",
   "metadata": {},
   "outputs": [
    {
     "name": "stdout",
     "output_type": "stream",
     "text": [
      "Categoría Artículo\n",
      "Etiquetas Ecocuero                                 1362\n",
      "Letreros (todos)                                    548\n",
      "Exhibidores de Madera                               128\n",
      "Stickers                                            107\n",
      "Hang Tags                                            54\n",
      "Otros                                                29\n",
      "Etiquetas Ecocuero, Letreros (todos)                  4\n",
      "Imanes                                                3\n",
      "Exhibidores de Madera, Letreros (todos)               1\n",
      "Hang Tags, Etiquetas Ecocuero, Letreros (todos)       1\n",
      "Stickers, Etiquetas Ecocuero                          1\n",
      "Botellas                                              1\n",
      "Hang Tags, Etiquetas Ecocuero                         1\n",
      "Hang Tags, Stickers                                   1\n",
      "Name: count, dtype: int64\n"
     ]
    }
   ],
   "source": [
    "print(db.get_values_columns(names_columns[5]))"
   ]
  },
  {
   "cell_type": "code",
   "execution_count": 59,
   "id": "eebe23a2-0462-406a-8a45-a9ecfb38bffe",
   "metadata": {},
   "outputs": [
    {
     "ename": "AttributeError",
     "evalue": "Can only use .dt accessor with datetimelike values",
     "output_type": "error",
     "traceback": [
      "\u001b[0;31m---------------------------------------------------------------------------\u001b[0m",
      "\u001b[0;31mAttributeError\u001b[0m                            Traceback (most recent call last)",
      "Cell \u001b[0;32mIn[59], line 2\u001b[0m\n\u001b[1;32m      1\u001b[0m \u001b[38;5;66;03m#pregunta: ver si los leads ganados tienen relacion con la fecha \u001b[39;00m\n\u001b[0;32m----> 2\u001b[0m \u001b[38;5;28mprint\u001b[39m(\u001b[43mdb\u001b[49m\u001b[38;5;241;43m.\u001b[39;49m\u001b[43morder_date\u001b[49m\u001b[43m(\u001b[49m\u001b[43m)\u001b[49m)\n",
      "Cell \u001b[0;32mIn[53], line 23\u001b[0m, in \u001b[0;36mDatabase.order_date\u001b[0;34m(self)\u001b[0m\n\u001b[1;32m     21\u001b[0m column \u001b[38;5;241m=\u001b[39m  \u001b[38;5;28mself\u001b[39m\u001b[38;5;241m.\u001b[39mdf[\u001b[38;5;124m\"\u001b[39m\u001b[38;5;124mÚltima modificación el\u001b[39m\u001b[38;5;124m\"\u001b[39m]\n\u001b[1;32m     22\u001b[0m \u001b[38;5;28mself\u001b[39m\u001b[38;5;241m.\u001b[39mdf[\u001b[38;5;124m\"\u001b[39m\u001b[38;5;124mÚltima modificación el\u001b[39m\u001b[38;5;124m\"\u001b[39m] \u001b[38;5;241m=\u001b[39m pd\u001b[38;5;241m.\u001b[39mto_datetime(column, \u001b[38;5;28mformat\u001b[39m\u001b[38;5;241m=\u001b[39m\u001b[38;5;124m\"\u001b[39m\u001b[38;5;132;01m%d\u001b[39;00m\u001b[38;5;124m.\u001b[39m\u001b[38;5;124m%\u001b[39m\u001b[38;5;124mm.\u001b[39m\u001b[38;5;124m%\u001b[39m\u001b[38;5;124mY \u001b[39m\u001b[38;5;124m%\u001b[39m\u001b[38;5;124mH:\u001b[39m\u001b[38;5;124m%\u001b[39m\u001b[38;5;124mM:\u001b[39m\u001b[38;5;124m%\u001b[39m\u001b[38;5;124mS\u001b[39m\u001b[38;5;124m\"\u001b[39m)\n\u001b[0;32m---> 23\u001b[0m \u001b[43mcolumn\u001b[49m\u001b[38;5;241;43m.\u001b[39;49m\u001b[43mdt\u001b[49m\u001b[38;5;241m.\u001b[39myear\n\u001b[1;32m     24\u001b[0m \u001b[38;5;28;01mreturn\u001b[39;00m \u001b[38;5;28mself\u001b[39m\u001b[38;5;241m.\u001b[39mdf\u001b[38;5;241m.\u001b[39mtail()\u001b[38;5;241m.\u001b[39mto_string(index\u001b[38;5;241m=\u001b[39m\u001b[38;5;28;01mFalse\u001b[39;00m)\n",
      "File \u001b[0;32m/usr/lib/python3.12/site-packages/pandas/core/generic.py:6299\u001b[0m, in \u001b[0;36mNDFrame.__getattr__\u001b[0;34m(self, name)\u001b[0m\n\u001b[1;32m   6292\u001b[0m \u001b[38;5;28;01mif\u001b[39;00m (\n\u001b[1;32m   6293\u001b[0m     name \u001b[38;5;129;01mnot\u001b[39;00m \u001b[38;5;129;01min\u001b[39;00m \u001b[38;5;28mself\u001b[39m\u001b[38;5;241m.\u001b[39m_internal_names_set\n\u001b[1;32m   6294\u001b[0m     \u001b[38;5;129;01mand\u001b[39;00m name \u001b[38;5;129;01mnot\u001b[39;00m \u001b[38;5;129;01min\u001b[39;00m \u001b[38;5;28mself\u001b[39m\u001b[38;5;241m.\u001b[39m_metadata\n\u001b[1;32m   6295\u001b[0m     \u001b[38;5;129;01mand\u001b[39;00m name \u001b[38;5;129;01mnot\u001b[39;00m \u001b[38;5;129;01min\u001b[39;00m \u001b[38;5;28mself\u001b[39m\u001b[38;5;241m.\u001b[39m_accessors\n\u001b[1;32m   6296\u001b[0m     \u001b[38;5;129;01mand\u001b[39;00m \u001b[38;5;28mself\u001b[39m\u001b[38;5;241m.\u001b[39m_info_axis\u001b[38;5;241m.\u001b[39m_can_hold_identifiers_and_holds_name(name)\n\u001b[1;32m   6297\u001b[0m ):\n\u001b[1;32m   6298\u001b[0m     \u001b[38;5;28;01mreturn\u001b[39;00m \u001b[38;5;28mself\u001b[39m[name]\n\u001b[0;32m-> 6299\u001b[0m \u001b[38;5;28;01mreturn\u001b[39;00m \u001b[38;5;28;43mobject\u001b[39;49m\u001b[38;5;241;43m.\u001b[39;49m\u001b[38;5;21;43m__getattribute__\u001b[39;49m\u001b[43m(\u001b[49m\u001b[38;5;28;43mself\u001b[39;49m\u001b[43m,\u001b[49m\u001b[43m \u001b[49m\u001b[43mname\u001b[49m\u001b[43m)\u001b[49m\n",
      "File \u001b[0;32m/usr/lib/python3.12/site-packages/pandas/core/accessor.py:224\u001b[0m, in \u001b[0;36mCachedAccessor.__get__\u001b[0;34m(self, obj, cls)\u001b[0m\n\u001b[1;32m    221\u001b[0m \u001b[38;5;28;01mif\u001b[39;00m obj \u001b[38;5;129;01mis\u001b[39;00m \u001b[38;5;28;01mNone\u001b[39;00m:\n\u001b[1;32m    222\u001b[0m     \u001b[38;5;66;03m# we're accessing the attribute of the class, i.e., Dataset.geo\u001b[39;00m\n\u001b[1;32m    223\u001b[0m     \u001b[38;5;28;01mreturn\u001b[39;00m \u001b[38;5;28mself\u001b[39m\u001b[38;5;241m.\u001b[39m_accessor\n\u001b[0;32m--> 224\u001b[0m accessor_obj \u001b[38;5;241m=\u001b[39m \u001b[38;5;28;43mself\u001b[39;49m\u001b[38;5;241;43m.\u001b[39;49m\u001b[43m_accessor\u001b[49m\u001b[43m(\u001b[49m\u001b[43mobj\u001b[49m\u001b[43m)\u001b[49m\n\u001b[1;32m    225\u001b[0m \u001b[38;5;66;03m# Replace the property with the accessor object. Inspired by:\u001b[39;00m\n\u001b[1;32m    226\u001b[0m \u001b[38;5;66;03m# https://www.pydanny.com/cached-property.html\u001b[39;00m\n\u001b[1;32m    227\u001b[0m \u001b[38;5;66;03m# We need to use object.__setattr__ because we overwrite __setattr__ on\u001b[39;00m\n\u001b[1;32m    228\u001b[0m \u001b[38;5;66;03m# NDFrame\u001b[39;00m\n\u001b[1;32m    229\u001b[0m \u001b[38;5;28mobject\u001b[39m\u001b[38;5;241m.\u001b[39m\u001b[38;5;21m__setattr__\u001b[39m(obj, \u001b[38;5;28mself\u001b[39m\u001b[38;5;241m.\u001b[39m_name, accessor_obj)\n",
      "File \u001b[0;32m/usr/lib/python3.12/site-packages/pandas/core/indexes/accessors.py:643\u001b[0m, in \u001b[0;36mCombinedDatetimelikeProperties.__new__\u001b[0;34m(cls, data)\u001b[0m\n\u001b[1;32m    640\u001b[0m \u001b[38;5;28;01melif\u001b[39;00m \u001b[38;5;28misinstance\u001b[39m(data\u001b[38;5;241m.\u001b[39mdtype, PeriodDtype):\n\u001b[1;32m    641\u001b[0m     \u001b[38;5;28;01mreturn\u001b[39;00m PeriodProperties(data, orig)\n\u001b[0;32m--> 643\u001b[0m \u001b[38;5;28;01mraise\u001b[39;00m \u001b[38;5;167;01mAttributeError\u001b[39;00m(\u001b[38;5;124m\"\u001b[39m\u001b[38;5;124mCan only use .dt accessor with datetimelike values\u001b[39m\u001b[38;5;124m\"\u001b[39m)\n",
      "\u001b[0;31mAttributeError\u001b[0m: Can only use .dt accessor with datetimelike values"
     ]
    }
   ],
   "source": [
    "#pregunta: ver si los leads ganados tienen relacion con la fecha \n",
    "print(db.order_date())\n"
   ]
  },
  {
   "cell_type": "code",
   "execution_count": null,
   "id": "c0dc9229-8478-48ba-b03c-ab169599d4fa",
   "metadata": {},
   "outputs": [],
   "source": []
  },
  {
   "cell_type": "code",
   "execution_count": null,
   "id": "ab3fc8e4-ed37-4901-bfe3-e70bef6cab76",
   "metadata": {},
   "outputs": [],
   "source": []
  }
 ],
 "metadata": {
  "kernelspec": {
   "display_name": "Python 3 (ipykernel)",
   "language": "python",
   "name": "python3"
  },
  "language_info": {
   "codemirror_mode": {
    "name": "ipython",
    "version": 3
   },
   "file_extension": ".py",
   "mimetype": "text/x-python",
   "name": "python",
   "nbconvert_exporter": "python",
   "pygments_lexer": "ipython3",
   "version": "3.12.7"
  }
 },
 "nbformat": 4,
 "nbformat_minor": 5
}
